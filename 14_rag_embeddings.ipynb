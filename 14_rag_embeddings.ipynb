{
 "cells": [
  {
   "cell_type": "markdown",
   "id": "aafcafb5",
   "metadata": {},
   "source": [
    "# Embeddings\n",
    "\n",
    "Os Embeddings criam uma representação vetorial de um pedaço de texto. Isso é útil porque significa que podemos pensar sobre o texto no espaço vetorial e fazer coisas como busca semântica, onde procuramos por pedaços de texto que são mais semelhantes no espaço vetorial, ou seja, que estão a uma distância menor.\n",
    "\n",
    "A classe Embeddings do Langchain é uma classe projetada para interagir com modelos de embedding de texto. Existem muitos modelos diferentes (OpenAI, Cohere, Hugging Face, etc) - esta classe é projetada para fornecer uma interface padrão para todos eles.\n",
    "\n",
    "A classe de Embeddings base em LangChain fornece dois métodos: um para realizar o emedding de documentos e outro para embedding de uma chamada. O primeiro recebe como entrada vários textos, enquanto o último recebe um único texto."
   ]
  },
  {
   "cell_type": "markdown",
   "id": "dc902411",
   "metadata": {},
   "source": [
    "https://python.langchain.com/docs/integrations/text_embedding/\n",
    "\n",
    "https://platform.openai.com/docs/guides/embeddings"
   ]
  },
  {
   "cell_type": "markdown",
   "id": "2211392a",
   "metadata": {},
   "source": [
    "## Embeddings com OpenAI"
   ]
  },
  {
   "cell_type": "code",
   "execution_count": 3,
   "id": "3e98fa81",
   "metadata": {},
   "outputs": [],
   "source": [
    "from langchain_openai import OpenAIEmbeddings\n",
    "\n",
    "# text-embedding-ada-002 (padrão do LangChain)\n",
    "embedding_model = OpenAIEmbeddings(model=\"text-embedding-ada-002\")"
   ]
  },
  {
   "cell_type": "markdown",
   "id": "617374f0",
   "metadata": {},
   "source": [
    "## Embedding documents"
   ]
  },
  {
   "cell_type": "code",
   "execution_count": 4,
   "id": "6da46fd2",
   "metadata": {},
   "outputs": [],
   "source": [
    "embeddings = embedding_model.embed_documents(\n",
    "  [\n",
    "    \"Eu gosto de cachorros\",\n",
    "    \"Eu gosto de animais\",\n",
    "    \"O tempo está ruim lá fora\",\n",
    "  ]\n",
    ")"
   ]
  },
  {
   "cell_type": "code",
   "execution_count": 6,
   "id": "6e1101c6",
   "metadata": {},
   "outputs": [
    {
     "data": {
      "text/plain": [
       "3"
      ]
     },
     "execution_count": 6,
     "metadata": {},
     "output_type": "execute_result"
    }
   ],
   "source": [
    "len(embeddings)"
   ]
  },
  {
   "cell_type": "code",
   "execution_count": 9,
   "id": "6a6587e7",
   "metadata": {},
   "outputs": [
    {
     "data": {
      "text/plain": [
       "[-0.01189151406288147,\n",
       " 0.003109192941337824,\n",
       " -0.008564830757677555,\n",
       " -0.02842690609395504,\n",
       " -0.021332433447241783,\n",
       " 0.0040618618950247765,\n",
       " 0.007443683221936226,\n",
       " -0.014335982501506805,\n",
       " 0.0038933833129704,\n",
       " -0.007805146276950836]"
      ]
     },
     "execution_count": 9,
     "metadata": {},
     "output_type": "execute_result"
    }
   ],
   "source": [
    "embeddings[0][:10] # mostra os primeiros 10 valores do vetor de embedding do primeiro texto"
   ]
  },
  {
   "cell_type": "code",
   "execution_count": 10,
   "id": "243497ff",
   "metadata": {},
   "outputs": [
    {
     "data": {
      "text/plain": [
       "1536"
      ]
     },
     "execution_count": 10,
     "metadata": {},
     "output_type": "execute_result"
    }
   ],
   "source": [
    "len(embeddings[0])  # mostra a dimensão do vetor de embedding do primeiro texto"
   ]
  },
  {
   "cell_type": "code",
   "execution_count": 11,
   "id": "a0c8764a",
   "metadata": {},
   "outputs": [
    {
     "data": {
      "text/plain": [
       "1536"
      ]
     },
     "execution_count": 11,
     "metadata": {},
     "output_type": "execute_result"
    }
   ],
   "source": [
    "len(embeddings[1])  # mostra a dimensão do vetor de embedding do segundo texto"
   ]
  },
  {
   "cell_type": "code",
   "execution_count": 12,
   "id": "ca0ddbc2",
   "metadata": {},
   "outputs": [
    {
     "data": {
      "text/plain": [
       "1536"
      ]
     },
     "execution_count": 12,
     "metadata": {},
     "output_type": "execute_result"
    }
   ],
   "source": [
    "len(embeddings[2]) # mostra a dimensão do vetor de embedding do terceiro texto"
   ]
  },
  {
   "cell_type": "code",
   "execution_count": 13,
   "id": "0f3e9844",
   "metadata": {},
   "outputs": [
    {
     "name": "stdout",
     "output_type": "stream",
     "text": [
      "1536 0.24662791192531586 -0.6614646911621094\n",
      "1536 0.23287081718444824 -0.654877245426178\n",
      "1536 0.23204080760478973 -0.6500335335731506\n"
     ]
    }
   ],
   "source": [
    "for emb in embeddings:\n",
    "  print(len(emb), max(emb), min(emb))"
   ]
  },
  {
   "cell_type": "code",
   "execution_count": null,
   "id": "dcd8a9e7",
   "metadata": {},
   "outputs": [
    {
     "data": {
      "text/plain": [
       "0.929192296639189"
      ]
     },
     "execution_count": 14,
     "metadata": {},
     "output_type": "execute_result"
    }
   ],
   "source": [
    "import numpy as np\n",
    "\n",
    "# similarity entre os dois primeiros textos\n",
    "# np.dot calcula o produto escalar entre os dois vetores\n",
    "np.dot(embeddings[0], embeddings[1])"
   ]
  },
  {
   "cell_type": "code",
   "execution_count": 15,
   "id": "cd07593e",
   "metadata": {},
   "outputs": [
    {
     "data": {
      "text/plain": [
       "0.8083655728309139"
      ]
     },
     "execution_count": 15,
     "metadata": {},
     "output_type": "execute_result"
    }
   ],
   "source": [
    "import numpy as np\n",
    "\n",
    "np.dot(embeddings[0], embeddings[2])"
   ]
  },
  {
   "cell_type": "code",
   "execution_count": 16,
   "id": "0b0b92c9",
   "metadata": {},
   "outputs": [
    {
     "data": {
      "text/plain": [
       "0.7974288660556964"
      ]
     },
     "execution_count": 16,
     "metadata": {},
     "output_type": "execute_result"
    }
   ],
   "source": [
    "import numpy as np\n",
    "\n",
    "np.dot(embeddings[1], embeddings[2])"
   ]
  },
  {
   "cell_type": "code",
   "execution_count": 17,
   "id": "7fbc6260",
   "metadata": {},
   "outputs": [
    {
     "name": "stdout",
     "output_type": "stream",
     "text": [
      "1.0 | 0.93 | 0.81 | \n",
      "0.93 | 1.0 | 0.8 | \n",
      "0.81 | 0.8 | 1.0 | \n"
     ]
    }
   ],
   "source": [
    "for i in range(len(embeddings)):\n",
    "  for j in range(len(embeddings)):\n",
    "    print(round(np.dot(embeddings[i], embeddings[j]), 2), end=\" | \")\n",
    "  print()"
   ]
  },
  {
   "cell_type": "markdown",
   "id": "995750c0",
   "metadata": {},
   "source": [
    "## Embedding query"
   ]
  },
  {
   "cell_type": "code",
   "execution_count": 18,
   "id": "e431a740",
   "metadata": {},
   "outputs": [
    {
     "data": {
      "text/plain": [
       "[0.0029943918343633413,\n",
       " -0.0013274765806272626,\n",
       " -0.010084359906613827,\n",
       " -0.0027218847535550594,\n",
       " -0.010670808143913746,\n",
       " 0.014406228438019753,\n",
       " 0.0025800534058362246,\n",
       " -0.005635002627968788,\n",
       " -0.005035805515944958,\n",
       " -0.002124281134456396]"
      ]
     },
     "execution_count": 18,
     "metadata": {},
     "output_type": "execute_result"
    }
   ],
   "source": [
    "pergunta = \"O que é um cachorro\"\n",
    "emb_query = embedding_model.embed_query(pergunta)\n",
    "emb_query[:10]  # mostra os primeiros 10 valores do vetor de embedding da query"
   ]
  },
  {
   "cell_type": "markdown",
   "id": "b9ce7a19",
   "metadata": {},
   "source": [
    "## Embedding com HuggingFace\n",
    "\n",
    "https://huggingface.co/models?pipeline_tag=sentence-similarity&sort=trending"
   ]
  },
  {
   "cell_type": "code",
   "execution_count": 3,
   "id": "1920a88c",
   "metadata": {},
   "outputs": [],
   "source": [
    "from langchain_community.embeddings.huggingface import HuggingFaceEmbeddings\n",
    "\n",
    "embedding_model = HuggingFaceEmbeddings(model_name=\"all-MiniLM-L6-v2\")"
   ]
  },
  {
   "cell_type": "code",
   "execution_count": 4,
   "id": "3fe752d5",
   "metadata": {},
   "outputs": [],
   "source": [
    "embeddings = embedding_model.embed_documents(\n",
    "  [\n",
    "    \"Eu gosto de cachorros\",\n",
    "    \"Eu gosto de animais\",\n",
    "    \"O tempo está ruim lá fora\",\n",
    "  ]\n",
    ")"
   ]
  },
  {
   "cell_type": "code",
   "execution_count": 5,
   "id": "e59265e6",
   "metadata": {},
   "outputs": [
    {
     "name": "stdout",
     "output_type": "stream",
     "text": [
      "1.0 | 0.68 | 0.4 | \n",
      "0.68 | 1.0 | 0.49 | \n",
      "0.4 | 0.49 | 1.0 | \n"
     ]
    }
   ],
   "source": [
    "import numpy as np\n",
    "\n",
    "for i in range(len(embeddings)):\n",
    "  for j in range(len(embeddings)):\n",
    "    print(round(np.dot(embeddings[i], embeddings[j]), 2), end=\" | \")\n",
    "  print()"
   ]
  },
  {
   "cell_type": "code",
   "execution_count": 6,
   "id": "4e27e0df",
   "metadata": {},
   "outputs": [
    {
     "name": "stdout",
     "output_type": "stream",
     "text": [
      "384 0.1526719629764557 -0.1365347057580948\n",
      "384 0.12528780102729797 -0.1534135788679123\n",
      "384 0.1250586211681366 -0.13441649079322815\n"
     ]
    }
   ],
   "source": [
    "for emb in embeddings:\n",
    "  print(len(emb), max(emb), min(emb))"
   ]
  }
 ],
 "metadata": {
  "kernelspec": {
   "display_name": "venv",
   "language": "python",
   "name": "python3"
  },
  "language_info": {
   "codemirror_mode": {
    "name": "ipython",
    "version": 3
   },
   "file_extension": ".py",
   "mimetype": "text/x-python",
   "name": "python",
   "nbconvert_exporter": "python",
   "pygments_lexer": "ipython3",
   "version": "3.13.7"
  }
 },
 "nbformat": 4,
 "nbformat_minor": 5
}
