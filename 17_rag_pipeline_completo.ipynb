{
 "cells": [
  {
   "cell_type": "markdown",
   "id": "89960960",
   "metadata": {},
   "source": [
    "# Conversando com os dados"
   ]
  },
  {
   "cell_type": "code",
   "execution_count": null,
   "id": "e26b8204",
   "metadata": {},
   "outputs": [],
   "source": [
    "# __import__('pysqlite3')\n",
    "# import sys\n",
    "# sys.modules['sqlite3'] = sys.modules.pop('pysqlite3')\n",
    "\n",
    "from langchain_openai import OpenAIEmbeddings\n",
    "from langchain_community.vectorstores.faiss import FAISS\n",
    "\n",
    "from langchain_community.document_loaders.pdf import PyPDFLoader\n",
    "from langchain_text_splitters import RecursiveCharacterTextSplitter"
   ]
  },
  {
   "cell_type": "code",
   "execution_count": null,
   "id": "0426a3b0",
   "metadata": {},
   "outputs": [],
   "source": [
    "caminhos = [\n",
    "    \"arquivos/Explorando a API da OpenAI.pdf\",\n",
    "    ]\n",
    "\n",
    "paginas = []\n",
    "for caminho in caminhos:\n",
    "    loader = PyPDFLoader(caminho)\n",
    "    paginas.extend(loader.load())\n",
    "\n",
    "recur_split = RecursiveCharacterTextSplitter(\n",
    "    chunk_size=1000,\n",
    "    chunk_overlap=100,\n",
    "    separators=[\"\\n\\n\", \"\\n\", \".\", \" \", \"\"]\n",
    ")\n",
    "\n",
    "documents = recur_split.split_documents(paginas)\n",
    "\n",
    "for i, doc in enumerate(documents):\n",
    "    doc.metadata['source'] = doc.metadata['source'].replace('arquivos/', '')\n",
    "    doc.metadata['doc_id'] = i"
   ]
  },
  {
   "cell_type": "code",
   "execution_count": null,
   "id": "91672ad3",
   "metadata": {},
   "outputs": [],
   "source": [
    "vectorstore = FAISS.from_documents(\n",
    "    documents=documents,\n",
    "    embedding=OpenAIEmbeddings()\n",
    ")"
   ]
  },
  {
   "cell_type": "markdown",
   "id": "e2949ac4",
   "metadata": {},
   "source": [
    "## Criando estrutura de conversa"
   ]
  },
  {
   "cell_type": "code",
   "execution_count": null,
   "id": "dfaa714a",
   "metadata": {},
   "outputs": [],
   "source": [
    "from langchain_core.prompts import ChatPromptTemplate\n",
    "\n",
    "prompt = ChatPromptTemplate.from_template(\n",
    "    '''Responda as perguntas se baseando no contexto fornecido.\n",
    "    \n",
    "    contexto: {contexto}\n",
    "    \n",
    "    pergunta: {pergunta}''')"
   ]
  },
  {
   "cell_type": "code",
   "execution_count": null,
   "id": "e8dcd5d4",
   "metadata": {},
   "outputs": [],
   "source": [
    "from langchain_core.runnables import RunnableParallel, RunnablePassthrough\n",
    "\n",
    "\n",
    "retriever = vectorstore.as_retriever(search_type='mmr', search_kwargs={'k': 5, 'fetch_k': 25})\n",
    "setup = RunnableParallel({\n",
    "    'pergunta': RunnablePassthrough(),\n",
    "    'contexto': retriever\n",
    "})"
   ]
  },
  {
   "cell_type": "code",
   "execution_count": null,
   "id": "719ee36d",
   "metadata": {},
   "outputs": [],
   "source": [
    "input = setup.invoke('O que é a OpenAI?')\n",
    "input"
   ]
  },
  {
   "cell_type": "code",
   "execution_count": null,
   "id": "0046dd81",
   "metadata": {},
   "outputs": [],
   "source": [
    "def join_documents(input):\n",
    "    input['contexto'] = '\\n\\n'.join([c.page_content for c in input['contexto']])\n",
    "    return input\n",
    "\n",
    "setup = RunnableParallel({\n",
    "    'pergunta': RunnablePassthrough(),\n",
    "    'contexto': retriever\n",
    "}) | join_documents"
   ]
  },
  {
   "cell_type": "code",
   "execution_count": null,
   "id": "19c1bda9",
   "metadata": {},
   "outputs": [],
   "source": [
    "input = setup.invoke('O que é a OpenAI?')\n",
    "print(input['contexto'])"
   ]
  },
  {
   "cell_type": "markdown",
   "id": "e6c267f0",
   "metadata": {},
   "source": [
    "### Juntando tudo"
   ]
  },
  {
   "cell_type": "code",
   "execution_count": null,
   "id": "6efb4786",
   "metadata": {},
   "outputs": [],
   "source": [
    "from langchain_core.prompts import ChatPromptTemplate\n",
    "from langchain_openai import ChatOpenAI\n",
    "from langchain_core.runnables import RunnableParallel, RunnablePassthrough\n",
    "\n",
    "prompt = ChatPromptTemplate.from_template(\n",
    "    '''Responda as perguntas se baseando no contexto fornecido.\n",
    "    \n",
    "    contexto: {contexto}\n",
    "    \n",
    "    pergunta: {pergunta}''')\n",
    "\n",
    "retriever = vectorstore.as_retriever(search_type='mmr', search_kwargs={'k': 5, 'fetch_k': 25})\n",
    "\n",
    "def join_documents(input):\n",
    "    input['contexto'] = '\\n\\n'.join([c.page_content for c in input['contexto']])\n",
    "    return input\n",
    "\n",
    "setup = RunnableParallel({\n",
    "    'pergunta': RunnablePassthrough(),\n",
    "    'contexto': retriever\n",
    "}) | join_documents\n",
    "\n",
    "chain = setup | prompt | ChatOpenAI()\n",
    "chain.invoke('O que é a OpenAI?')"
   ]
  }
 ],
 "metadata": {
  "kernelspec": {
   "display_name": "venv",
   "language": "python",
   "name": "python3"
  },
  "language_info": {
   "codemirror_mode": {
    "name": "ipython",
    "version": 3
   },
   "file_extension": ".py",
   "mimetype": "text/x-python",
   "name": "python",
   "nbconvert_exporter": "python",
   "pygments_lexer": "ipython3",
   "version": "3.13.7"
  }
 },
 "nbformat": 4,
 "nbformat_minor": 5
}
