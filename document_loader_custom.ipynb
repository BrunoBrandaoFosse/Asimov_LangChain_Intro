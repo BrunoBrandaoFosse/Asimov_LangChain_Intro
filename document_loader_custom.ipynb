{
 "cells": [
  {
   "cell_type": "markdown",
   "id": "883c848c",
   "metadata": {},
   "source": [
    "# Criando um Document Loader Customizado no LangChain\n",
    "\n",
    "Na última aula, discutimos a importância dos Document Loaders no LangChain e como utilizá-los para carregar dados de diferentes fontes. Agora, vamos aprender a criar um Document Loader customizado. Isso é útil quando você precisa carregar dados de uma fonte que não é suportada pelos loaders padrão do LangChain."
   ]
  },
  {
   "cell_type": "markdown",
   "id": "2c9dcd44",
   "metadata": {},
   "source": [
    "### O que é um Document Loader Customizado?\n",
    "\n",
    "Um Document Loader customizado é uma classe que você cria para carregar dados de uma fonte específica. Essa classe deve implementar um método que retorna uma lista de documentos, onde cada documento é um objeto que contém o conteúdo e os metadados."
   ]
  },
  {
   "cell_type": "markdown",
   "id": "0ec4a390",
   "metadata": {},
   "source": [
    "### Passos para Criar um Document Loader Customizado\n",
    "\n",
    "1. **`Importar as Bibliotecas Necessárias:`** Você precisará importar as classes e métodos do LangChain que serão utilizados na criação do seu loader."
   ]
  },
  {
   "cell_type": "code",
   "execution_count": null,
   "id": "2a3f6de8",
   "metadata": {},
   "outputs": [],
   "source": [
    "from langchain.document_loaders.base import BaseLoader\n",
    "from langchain.schema import Document"
   ]
  },
  {
   "cell_type": "markdown",
   "id": "346bcd92",
   "metadata": {},
   "source": [
    "2. **`Definir a Classe do Loader:`** Crie uma nova classe que herda de BaseLoader. Essa classe deve implementar o método load(). Neste caso, criamos um loader que cria um documento para cada linha de texto de um arquivo."
   ]
  },
  {
   "cell_type": "code",
   "execution_count": null,
   "id": "aa9b2701",
   "metadata": {},
   "outputs": [],
   "source": [
    "class MyCustomLoader(BaseLoader):\n",
    "  def __init__(self, source):\n",
    "    self.source = source  # Fonte de dados, como um arquivo ou URL\n",
    "\n",
    "  def load(self):\n",
    "    # Lógica para carregar os dados da fonte\n",
    "    documents = []\n",
    "    # Exemplo: Carregar dados de um arquivo de texto\n",
    "    with open(self.source, 'r') as file:\n",
    "      content = file.read()\n",
    "      # Criar um documento com o conteúdo e metadados\n",
    "      documents.append(Document(page_content=content, metadata={\"source\": self.source}))\n",
    "    return documents"
   ]
  },
  {
   "cell_type": "markdown",
   "id": "64c42abf",
   "metadata": {},
   "source": [
    "3. **`Utilizar o Document Loader Customizado:`** Após definir a classe, você pode instanciá-la e utilizá-la para carregar os dados."
   ]
  },
  {
   "cell_type": "code",
   "execution_count": null,
   "id": "edb8e8bc",
   "metadata": {},
   "outputs": [],
   "source": [
    "# Criar uma instância do loader\n",
    "loader = MyCustomLoader('caminho/para/seu/arquivo.txt')\n",
    "documentos = loader.load()\n",
    "\n",
    "# Verificar o conteúdo carregado\n",
    "for doc in documentos:\n",
    "  print(doc.page_content)  # Exibir o conteúdo do documento\n",
    "  print(doc.metadata)  # Exibir os metadados do documento"
   ]
  },
  {
   "cell_type": "markdown",
   "id": "e87929a8",
   "metadata": {},
   "source": [
    "### Exemplo Completo\n",
    "\n",
    "Aqui está um exemplo completo de um Document Loader customizado que carrega dados de um arquivo de texto:"
   ]
  },
  {
   "cell_type": "code",
   "execution_count": null,
   "id": "59af5c0a",
   "metadata": {},
   "outputs": [],
   "source": [
    "from langchain.document_loaders.base import BaseLoader\n",
    "from langchain.schema import Document\n",
    "\n",
    "class MyCustomLoader(BaseLoader):\n",
    "  def __init__(self, source):\n",
    "    self.source = source  # Fonte de dados, como um arquivo ou URL\n",
    "\n",
    "  def load(self):\n",
    "    documents = []\n",
    "    with open(self.source, 'r') as file:\n",
    "      content = file.read()\n",
    "      documents.append(Document(page_content=content, metadata={\"source\": self.source}))\n",
    "    return documents\n",
    "\n",
    "# Utilizando o Document Loader customizado\n",
    "loader = MyCustomLoader('caminho/para/seu/arquivo.txt')\n",
    "documentos = loader.load()\n",
    "\n",
    "# Exibindo o conteúdo e metadados\n",
    "for doc in documentos:\n",
    "  print(doc.page_content)\n",
    "  print(doc.metadata)"
   ]
  },
  {
   "cell_type": "markdown",
   "id": "00a43484",
   "metadata": {},
   "source": [
    "### Resumindo\n",
    "\n",
    "- Document Loaders customizados permitem que você carregue dados de fontes não suportadas pelos loaders padrão do LangChain.\n",
    "\n",
    "- Implemente a classe herdando de **`BaseLoader`** e defina o método **`load()`** para retornar uma lista de documentos.\n",
    "\n",
    "- Utilize o seu loader customizado instanciando a classe e chamando o método **`load()`**.\n",
    "\n",
    "Criar Document Loaders customizados é uma maneira poderosa de expandir as capacidades do LangChain e adaptar a biblioteca às suas necessidades específicas. Se você tiver dúvidas ou precisar de ajuda para criar um loader para uma fonte específica, sinta-se à vontade para perguntar!"
   ]
  }
 ],
 "metadata": {
  "kernelspec": {
   "display_name": "venv",
   "language": "python",
   "name": "python3"
  },
  "language_info": {
   "codemirror_mode": {
    "name": "ipython",
    "version": 3
   },
   "file_extension": ".py",
   "mimetype": "text/x-python",
   "name": "python",
   "nbconvert_exporter": "python",
   "pygments_lexer": "ipython3",
   "version": "3.13.7"
  }
 },
 "nbformat": 4,
 "nbformat_minor": 5
}
