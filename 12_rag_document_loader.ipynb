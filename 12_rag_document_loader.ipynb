{
 "cells": [
  {
   "cell_type": "markdown",
   "id": "e950a7af",
   "metadata": {},
   "source": [
    "# Document Loader"
   ]
  },
  {
   "cell_type": "markdown",
   "id": "84d6d2c4",
   "metadata": {},
   "source": [
    "### Tipos de Document Loaders no Langchain\n",
    "\n",
    "![Document loaders](arquivos/loaders.png)"
   ]
  },
  {
   "cell_type": "markdown",
   "id": "71ac29f3",
   "metadata": {},
   "source": [
    "## Carregando PDFs"
   ]
  },
  {
   "cell_type": "code",
   "execution_count": null,
   "id": "e4fb8f3b",
   "metadata": {},
   "outputs": [],
   "source": [
    "from langchain_community.document_loaders.pdf import PyPDFLoader\n",
    "\n",
    "caminho = \"arquivos/Explorando o Universo das IAs com Hugging Face.pdf\"\n",
    "loader = PyPDFLoader(caminho)\n",
    "documentos = loader.load()"
   ]
  },
  {
   "cell_type": "code",
   "execution_count": null,
   "id": "68f9c785",
   "metadata": {},
   "outputs": [],
   "source": [
    "len(documentos)"
   ]
  },
  {
   "cell_type": "code",
   "execution_count": null,
   "id": "8f788a49",
   "metadata": {},
   "outputs": [],
   "source": [
    "documentos[3].page_content"
   ]
  },
  {
   "cell_type": "code",
   "execution_count": null,
   "id": "2de8361d",
   "metadata": {},
   "outputs": [],
   "source": [
    "documentos[3].metadata"
   ]
  },
  {
   "cell_type": "markdown",
   "id": "a65e37f5",
   "metadata": {},
   "source": [
    "## Fazendo perguntas para o arquivo"
   ]
  },
  {
   "cell_type": "code",
   "execution_count": null,
   "id": "36f56892",
   "metadata": {},
   "outputs": [],
   "source": [
    "from langchain.chains.question_answering import load_qa_chain\n",
    "from langchain_openai.chat_models import ChatOpenAI\n",
    "\n",
    "chat = ChatOpenAI(model='gpt-3.5-turbo-0125')\n",
    "\n",
    "chain = load_qa_chain(llm=chat, chain_type='stuff', verbose=True)"
   ]
  },
  {
   "cell_type": "code",
   "execution_count": null,
   "id": "5fbbbe18",
   "metadata": {},
   "outputs": [],
   "source": [
    "pergunta = 'Qual é o filme com maior metascore?'\n",
    "chain.run(input_documents=documentos[:10], question=pergunta)"
   ]
  },
  {
   "cell_type": "markdown",
   "id": "4db8fe9d",
   "metadata": {},
   "source": [
    "## Carregando csv"
   ]
  },
  {
   "cell_type": "code",
   "execution_count": null,
   "id": "94de66ce",
   "metadata": {},
   "outputs": [],
   "source": [
    "from langchain_community.document_loaders.csv_loader import CSVLoader\n",
    "\n",
    "caminho = 'arquivos/Top 1000 IMDB movies.csv'\n",
    "loader = CSVLoader(caminho)\n",
    "documentos = loader.load()"
   ]
  },
  {
   "cell_type": "code",
   "execution_count": null,
   "id": "ebdffbbe",
   "metadata": {},
   "outputs": [],
   "source": [
    "len(documentos)"
   ]
  },
  {
   "cell_type": "code",
   "execution_count": null,
   "id": "955f24e8",
   "metadata": {},
   "outputs": [],
   "source": [
    "documentos[2].metadata"
   ]
  },
  {
   "cell_type": "code",
   "execution_count": null,
   "id": "f788b63c",
   "metadata": {},
   "outputs": [],
   "source": [
    "print(documentos[2].page_content)"
   ]
  },
  {
   "cell_type": "code",
   "execution_count": null,
   "id": "5c184946",
   "metadata": {},
   "outputs": [],
   "source": [
    "from langchain.chains.question_answering import load_qa_chain\n",
    "from langchain_openai.chat_models import ChatOpenAI\n",
    "\n",
    "chat = ChatOpenAI(model='gpt-3.5-turbo-0125')\n",
    "\n",
    "chain = load_qa_chain(llm=chat, chain_type='stuff', verbose=True)"
   ]
  },
  {
   "cell_type": "code",
   "execution_count": null,
   "id": "40efe4f0",
   "metadata": {},
   "outputs": [],
   "source": [
    "pergunta = 'Qual é o filme com maior metascore?'\n",
    "chain.run(input_documents=documentos[:10], question=pergunta)"
   ]
  },
  {
   "cell_type": "markdown",
   "id": "75aa5914",
   "metadata": {},
   "source": [
    "## Carregando da Internet"
   ]
  },
  {
   "cell_type": "markdown",
   "id": "b7c57188",
   "metadata": {},
   "source": [
    "### Youtube"
   ]
  },
  {
   "cell_type": "code",
   "execution_count": null,
   "id": "da3f44f5",
   "metadata": {},
   "outputs": [],
   "source": [
    "from langchain_community.document_loaders.generic import GenericLoader\n",
    "from langchain_community.document_loaders.blob_loaders.youtube_audio import YoutubeAudioLoader\n",
    "from langchain.document_loaders.parsers import OpenAIWhisperParser"
   ]
  },
  {
   "cell_type": "code",
   "execution_count": null,
   "id": "be735c9b",
   "metadata": {},
   "outputs": [],
   "source": [
    "url = 'https://www.youtube.com/watch?v=rOjusRRO1EI'\n",
    "save_dir='docs/youtube/'\n",
    "loader = GenericLoader(\n",
    "    YoutubeAudioLoader([url], save_dir),\n",
    "    OpenAIWhisperParser()\n",
    ")\n",
    "docs = loader.load()"
   ]
  },
  {
   "cell_type": "code",
   "execution_count": null,
   "id": "3391bf5f",
   "metadata": {},
   "outputs": [],
   "source": [
    "len(docs)"
   ]
  },
  {
   "cell_type": "code",
   "execution_count": null,
   "id": "bf72a179",
   "metadata": {},
   "outputs": [],
   "source": [
    "print(docs[0].page_content[:500])"
   ]
  },
  {
   "cell_type": "code",
   "execution_count": null,
   "id": "dbc9909c",
   "metadata": {},
   "outputs": [],
   "source": [
    "docs[1].metadata"
   ]
  },
  {
   "cell_type": "markdown",
   "id": "119c9e34",
   "metadata": {},
   "source": [
    "### URLs"
   ]
  },
  {
   "cell_type": "code",
   "execution_count": null,
   "id": "726a1631",
   "metadata": {},
   "outputs": [],
   "source": [
    "from langchain_community.document_loaders.web_base import WebBaseLoader\n",
    "\n",
    "url = 'https://hub.asimov.academy/blog/listas-em-python/'\n",
    "loader = WebBaseLoader(url)\n",
    "documentos = loader.load()"
   ]
  },
  {
   "cell_type": "code",
   "execution_count": null,
   "id": "c476dae8",
   "metadata": {},
   "outputs": [],
   "source": [
    "len(documentos)"
   ]
  },
  {
   "cell_type": "code",
   "execution_count": null,
   "id": "098cd1d5",
   "metadata": {},
   "outputs": [],
   "source": [
    "print(documentos[0].page_content[1000:2000])"
   ]
  },
  {
   "cell_type": "markdown",
   "id": "56655599",
   "metadata": {},
   "source": [
    "## Carregando do Notion"
   ]
  },
  {
   "cell_type": "code",
   "execution_count": null,
   "id": "1c35eca5",
   "metadata": {},
   "outputs": [],
   "source": [
    "from langchain_community.document_loaders.notion import NotionDirectoryLoader\n",
    "caminho = 'arquivos/notion_db'\n",
    "loader = NotionDirectoryLoader(caminho)\n",
    "documentos = loader.load()"
   ]
  },
  {
   "cell_type": "code",
   "execution_count": null,
   "id": "6e6fdb1a",
   "metadata": {},
   "outputs": [],
   "source": [
    "len(documentos)"
   ]
  },
  {
   "cell_type": "code",
   "execution_count": null,
   "id": "24977f1c",
   "metadata": {},
   "outputs": [],
   "source": [
    "print(documentos[0].page_content)"
   ]
  },
  {
   "cell_type": "code",
   "execution_count": null,
   "id": "9addc377",
   "metadata": {},
   "outputs": [],
   "source": [
    "documentos[2].metadata"
   ]
  }
 ],
 "metadata": {
  "kernelspec": {
   "display_name": "venv",
   "language": "python",
   "name": "python3"
  },
  "language_info": {
   "codemirror_mode": {
    "name": "ipython",
    "version": 3
   },
   "file_extension": ".py",
   "mimetype": "text/x-python",
   "name": "python",
   "nbconvert_exporter": "python",
   "pygments_lexer": "ipython3",
   "version": "3.13.7"
  }
 },
 "nbformat": 4,
 "nbformat_minor": 5
}
