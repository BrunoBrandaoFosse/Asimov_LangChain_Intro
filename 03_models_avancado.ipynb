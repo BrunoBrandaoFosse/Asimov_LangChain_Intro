{
 "cells": [
  {
   "cell_type": "markdown",
   "id": "c74289d7",
   "metadata": {},
   "source": [
    "# Conceitos avançados de Models"
   ]
  },
  {
   "cell_type": "markdown",
   "id": "a447fd99",
   "metadata": {},
   "source": [
    "## Prompt few-shot"
   ]
  },
  {
   "cell_type": "code",
   "execution_count": null,
   "id": "3d772036",
   "metadata": {},
   "outputs": [],
   "source": [
    "from langchain_openai import ChatOpenAI\n",
    "\n",
    "chat = ChatOpenAI(model=\"gpt-3.5-turbo\")"
   ]
  },
  {
   "cell_type": "code",
   "execution_count": null,
   "id": "34156190",
   "metadata": {},
   "outputs": [],
   "source": [
    "from langchain_core.messages import HumanMessage, AIMessage\n",
    "\n",
    "mensagens = [\n",
    "  HumanMessage(content=\"Quanto é 1 + 1?\"),\n",
    "  AIMessage(content=\"1 + 1 é igual a 2.\"),\n",
    "  HumanMessage(content=\"Quanto é 10 * 5?\"),\n",
    "  AIMessage(content=\"10 * 5 é igual a 50.\"),\n",
    "  HumanMessage(content=\"Quanto é 10 + 3?\"),\n",
    "]\n",
    "\n",
    "chat.invoke(mensagens)"
   ]
  },
  {
   "cell_type": "code",
   "execution_count": null,
   "id": "f5913aa2",
   "metadata": {},
   "outputs": [],
   "source": [
    "from langchain_core.messages import HumanMessage, SystemMessage, AIMessage\n",
    "\n",
    "mensagens = [\n",
    "  SystemMessage(content=\"\"\"\n",
    "      Você é um assistente que responde perguntas matemáticas.\n",
    "      Responda apenas o valor do resultado.\n",
    "  \"\"\"),\n",
    "  HumanMessage(content=\"Quanto é 1 + 1?\"),\n",
    "  AIMessage(content=\"2\"),\n",
    "  HumanMessage(content=\"Quanto é 10 * 5?\"),\n",
    "  AIMessage(content=\"50\"),\n",
    "  HumanMessage(content=\"Quanto é 10 + 3?\"),\n",
    "]\n",
    "\n",
    "chat.invoke(mensagens)"
   ]
  },
  {
   "cell_type": "markdown",
   "id": "11bace45",
   "metadata": {},
   "source": [
    "## Utilizando outros modelos"
   ]
  },
  {
   "cell_type": "code",
   "execution_count": null,
   "id": "da1fbf93",
   "metadata": {},
   "outputs": [],
   "source": [
    "from langchain_groq import ChatGroq\n",
    "import os\n",
    "from dotenv import load_dotenv\n",
    "load_dotenv()\n",
    "\n",
    "chat = ChatGroq(model=\"llama-3.3-70b-versatile\", api_key=os.getenv(\"GROQ_API_KEY\"))"
   ]
  },
  {
   "cell_type": "code",
   "execution_count": null,
   "id": "d503539d",
   "metadata": {},
   "outputs": [],
   "source": [
    "from langchain_core.messages import HumanMessage, SystemMessage, AIMessage\n",
    "\n",
    "mensagens = [\n",
    "  SystemMessage(content=\"\"\"\n",
    "      Você é um assistente que responde perguntas matemáticas.\n",
    "      Responda apenas o valor do resultado.\n",
    "  \"\"\"),\n",
    "  HumanMessage(content=\"Quanto é 1 + 1?\"),\n",
    "  AIMessage(content=\"2\"),\n",
    "  HumanMessage(content=\"Quanto é 10 * 5?\"),\n",
    "  AIMessage(content=\"50\"),\n",
    "  HumanMessage(content=\"Quanto é 10 + 3?\"),\n",
    "]\n",
    "\n",
    "chat.invoke(mensagens)"
   ]
  },
  {
   "cell_type": "markdown",
   "id": "9a49315e",
   "metadata": {},
   "source": [
    "A estrutura de chat_model utiliza a estrutura de LLM como backend"
   ]
  },
  {
   "cell_type": "code",
   "execution_count": null,
   "id": "d149d724",
   "metadata": {},
   "outputs": [],
   "source": [
    "import langchain\n",
    "\n",
    "langchain.debug = True\n",
    "chat.invoke(mensagens)"
   ]
  },
  {
   "cell_type": "markdown",
   "id": "9d5d1ffe",
   "metadata": {},
   "source": [
    "## Caching"
   ]
  },
  {
   "cell_type": "markdown",
   "id": "5136bc41",
   "metadata": {},
   "source": [
    "### Cache em memória"
   ]
  },
  {
   "cell_type": "code",
   "execution_count": null,
   "id": "3e7b7c1a",
   "metadata": {},
   "outputs": [],
   "source": [
    "from langchain_openai.chat_models import ChatOpenAI\n",
    "\n",
    "chat = ChatOpenAI(model=\"gpt-3.5-turbo\")"
   ]
  },
  {
   "cell_type": "code",
   "execution_count": null,
   "id": "0729cd72",
   "metadata": {},
   "outputs": [],
   "source": [
    "from langchain_core.messages import HumanMessage, SystemMessage\n",
    "\n",
    "mensagens = [\n",
    "  SystemMessage(content=\"Você é um assistente engraçado.\"),\n",
    "  HumanMessage(content=\"Quanto é 1 + 1?\"),\n",
    "]"
   ]
  },
  {
   "cell_type": "code",
   "execution_count": null,
   "id": "fee41e3d",
   "metadata": {},
   "outputs": [],
   "source": [
    "from langchain_core.caches import InMemoryCache\n",
    "from langchain_core.globals import set_llm_cache\n",
    "\n",
    "set_llm_cache(InMemoryCache())"
   ]
  },
  {
   "cell_type": "markdown",
   "id": "5af2cd94",
   "metadata": {},
   "source": [
    "Rodando a primeira vez"
   ]
  },
  {
   "cell_type": "code",
   "execution_count": null,
   "id": "75898cc8",
   "metadata": {},
   "outputs": [],
   "source": [
    "%%time\n",
    "\n",
    "chat.invoke(mensagens)"
   ]
  },
  {
   "cell_type": "markdown",
   "id": "70bde1d8",
   "metadata": {},
   "source": [
    "Rodando novamente (em cache)"
   ]
  },
  {
   "cell_type": "code",
   "execution_count": null,
   "id": "87405661",
   "metadata": {},
   "outputs": [],
   "source": [
    "%%time\n",
    "\n",
    "chat.invoke(mensagens)"
   ]
  },
  {
   "cell_type": "markdown",
   "id": "5fe9df7d",
   "metadata": {},
   "source": [
    "### Cache SQLite"
   ]
  },
  {
   "cell_type": "code",
   "execution_count": null,
   "id": "2f3bfecd",
   "metadata": {},
   "outputs": [],
   "source": [
    "from langchain_community.cache import SQLiteCache\n",
    "from langchain_core.globals import set_llm_cache\n",
    "\n",
    "set_llm_cache(SQLiteCache(database_path=\"./langchain_cache.db\"))"
   ]
  },
  {
   "cell_type": "code",
   "execution_count": null,
   "id": "30331b88",
   "metadata": {},
   "outputs": [],
   "source": [
    "%%time\n",
    "\n",
    "chat.invoke(mensagens)"
   ]
  },
  {
   "cell_type": "code",
   "execution_count": null,
   "id": "e066b629",
   "metadata": {},
   "outputs": [],
   "source": [
    "%%time\n",
    "\n",
    "chat.invoke(mensagens)"
   ]
  }
 ],
 "metadata": {
  "kernelspec": {
   "display_name": "venv",
   "language": "python",
   "name": "python3"
  },
  "language_info": {
   "codemirror_mode": {
    "name": "ipython",
    "version": 3
   },
   "file_extension": ".py",
   "mimetype": "text/x-python",
   "name": "python",
   "nbconvert_exporter": "python",
   "pygments_lexer": "ipython3",
   "version": "3.13.7"
  }
 },
 "nbformat": 4,
 "nbformat_minor": 5
}
