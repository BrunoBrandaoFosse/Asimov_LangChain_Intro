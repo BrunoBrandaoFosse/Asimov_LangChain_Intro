{
 "cells": [
  {
   "cell_type": "markdown",
   "id": "997eba6a",
   "metadata": {},
   "source": [
    "# VectorStores\n",
    "\n",
    "Uma das maneiras mais comuns de armazenar e buscar dados não estruturados é realizando o embedding e armazenando os vetores resultantes e, em seguida, na hora da consulta, realizar o embedding da consulta e recuperar os vetores 'mais semelhantes'. Uma VectorStore faz o armazenamento dos vetores e a realização da busca de vetores para você."
   ]
  },
  {
   "cell_type": "markdown",
   "id": "1a831f2b",
   "metadata": {},
   "source": [
    "## Chroma VectorStore"
   ]
  },
  {
   "cell_type": "code",
   "execution_count": null,
   "id": "f6ce3463",
   "metadata": {},
   "outputs": [],
   "source": [
    "from langchain_community.document_loaders.pdf import PyPDFLoader\n",
    "from langchain_text_splitters import RecursiveCharacterTextSplitter"
   ]
  },
  {
   "cell_type": "markdown",
   "id": "c1fee4b7",
   "metadata": {},
   "source": [
    "### Document Loading"
   ]
  },
  {
   "cell_type": "code",
   "execution_count": null,
   "id": "02cf144a",
   "metadata": {},
   "outputs": [],
   "source": [
    "caminho = 'arquivos/Explorando o Universo das IAs com Hugging Face.pdf'\n",
    "loader = PyPDFLoader(caminho)\n",
    "paginas = loader.load()"
   ]
  },
  {
   "cell_type": "markdown",
   "id": "b82fcba4",
   "metadata": {},
   "source": [
    "### Text Splitting"
   ]
  },
  {
   "cell_type": "code",
   "execution_count": null,
   "id": "397e9784",
   "metadata": {},
   "outputs": [],
   "source": [
    "recur_split = RecursiveCharacterTextSplitter(\n",
    "  chunk_size=450,\n",
    "  chunk_overlap=0,\n",
    "  separators=[\"\\n\\n\", \"\\n\", \".\", \" \", \"\"]\n",
    ")\n",
    "\n",
    "documents = recur_split.split_documents(paginas)\n",
    "len(documents)"
   ]
  },
  {
   "cell_type": "markdown",
   "id": "f1b66485",
   "metadata": {},
   "source": [
    "### Criando a VectorStore"
   ]
  },
  {
   "cell_type": "code",
   "execution_count": null,
   "id": "8c5c0c64",
   "metadata": {},
   "outputs": [],
   "source": [
    "# !pip install pysqlite3-binary"
   ]
  },
  {
   "cell_type": "code",
   "execution_count": null,
   "id": "3505c2d0",
   "metadata": {},
   "outputs": [],
   "source": [
    "# __import__('pysqlite3')\n",
    "# import sys\n",
    "# sys.modules['sqlite3'] = sys.modules.pop('pysqlite3')"
   ]
  },
  {
   "cell_type": "code",
   "execution_count": null,
   "id": "980c1728",
   "metadata": {},
   "outputs": [],
   "source": [
    "from langchain_openai import OpenAIEmbeddings\n",
    "\n",
    "embeddings_model = OpenAIEmbeddings()"
   ]
  },
  {
   "cell_type": "code",
   "execution_count": null,
   "id": "30f2aa68",
   "metadata": {},
   "outputs": [],
   "source": [
    "from langchain_chroma import Chroma\n",
    "\n",
    "diretorio = 'arquivos/chroma_vectorstore'\n",
    "\n",
    "vectorstore = Chroma.from_documents(\n",
    "    documents=documents,\n",
    "    embedding=embeddings_model,\n",
    "    persist_directory=diretorio\n",
    ")"
   ]
  },
  {
   "cell_type": "code",
   "execution_count": null,
   "id": "a5ed561b",
   "metadata": {},
   "outputs": [],
   "source": [
    "print(vectorstore._collection.count())"
   ]
  },
  {
   "cell_type": "markdown",
   "id": "2faa7ffb",
   "metadata": {},
   "source": [
    "### Importando vectorstore do disco"
   ]
  },
  {
   "cell_type": "code",
   "execution_count": null,
   "id": "a91b67c7",
   "metadata": {},
   "outputs": [],
   "source": [
    "vectorstore = Chroma(\n",
    "    embedding_function=embeddings_model,\n",
    "    persist_directory=diretorio\n",
    ")"
   ]
  },
  {
   "cell_type": "markdown",
   "id": "92cc065e",
   "metadata": {},
   "source": [
    "### Retrieval"
   ]
  },
  {
   "cell_type": "code",
   "execution_count": null,
   "id": "3fc880a6",
   "metadata": {},
   "outputs": [],
   "source": [
    "pergunta = 'O que é Hugging Face?'\n",
    "\n",
    "\"\"\"\n",
    "O parâmetro k em vectorstore.similarity_search(pergunta, k=5) define quantos documentos \n",
    "mais semelhantes serão retornados na busca. Ou seja, k=5 faz com que a função \n",
    "retorne os 5 documentos mais próximos (relevantes) ao vetor da pergunta.\n",
    "Se você colocar k=3, retorna os 3 mais próximos, e assim por diante.\n",
    "\"\"\"\n",
    "docs = vectorstore.similarity_search(pergunta, k=5)\n",
    "len(docs)"
   ]
  },
  {
   "cell_type": "code",
   "execution_count": null,
   "id": "8932fc51",
   "metadata": {},
   "outputs": [],
   "source": [
    "for doc in docs:\n",
    "    print(doc.page_content)\n",
    "    print(f'====== {doc.metadata}')"
   ]
  },
  {
   "cell_type": "markdown",
   "id": "4729b53a",
   "metadata": {},
   "source": [
    "## FAISS VectorStore"
   ]
  },
  {
   "cell_type": "markdown",
   "id": "b1959ca1",
   "metadata": {},
   "source": [
    "https://python.langchain.com/docs/integrations/vectorstores/"
   ]
  },
  {
   "cell_type": "code",
   "execution_count": null,
   "id": "f8dc522c",
   "metadata": {},
   "outputs": [],
   "source": [
    "from langchain_community.document_loaders.pdf import PyPDFLoader\n",
    "from langchain_text_splitters import RecursiveCharacterTextSplitter"
   ]
  },
  {
   "cell_type": "code",
   "execution_count": null,
   "id": "910f7a49",
   "metadata": {},
   "outputs": [],
   "source": [
    "caminho = \"arquivos/Explorando o Universo das IAs com Hugging Face.pdf\"\n",
    "loader = PyPDFLoader(caminho)\n",
    "paginas = loader.load()\n",
    "\n",
    "recur_split = RecursiveCharacterTextSplitter(\n",
    "    chunk_size=500,\n",
    "    chunk_overlap=50,\n",
    "    separators=[\"\\n\\n\", \"\\n\", \".\", \" \", \"\"]\n",
    ")\n",
    "\n",
    "documents = recur_split.split_documents(paginas)"
   ]
  },
  {
   "cell_type": "code",
   "execution_count": null,
   "id": "65f30ba8",
   "metadata": {},
   "outputs": [],
   "source": [
    "from langchain_openai import OpenAIEmbeddings\n",
    "\n",
    "embeddings_model = OpenAIEmbeddings()"
   ]
  },
  {
   "cell_type": "code",
   "execution_count": null,
   "id": "ae9395f3",
   "metadata": {},
   "outputs": [],
   "source": [
    "from langchain_community.vectorstores.faiss import FAISS\n",
    "\n",
    "vectorstore = FAISS.from_documents(\n",
    "    documents=documents,\n",
    "    embedding=embeddings_model\n",
    ")"
   ]
  },
  {
   "cell_type": "code",
   "execution_count": null,
   "id": "6d653be8",
   "metadata": {},
   "outputs": [],
   "source": [
    "pergunta = 'O que é o Hugging Face?'\n",
    "\n",
    "\"\"\"\n",
    "O parâmetro k em vectorstore.similarity_search(pergunta, k=5) define quantos documentos \n",
    "mais semelhantes serão retornados na busca. Ou seja, k=5 faz com que a função \n",
    "retorne os 5 documentos mais próximos (relevantes) ao vetor da pergunta.\n",
    "Se você colocar k=3, retorna os 3 mais próximos, e assim por diante.\n",
    "\"\"\"\n",
    "docs = vectorstore.similarity_search(pergunta, k=5)\n",
    "len(docs)"
   ]
  },
  {
   "cell_type": "code",
   "execution_count": null,
   "id": "2709544e",
   "metadata": {},
   "outputs": [],
   "source": [
    "for doc in docs:\n",
    "    print(doc.page_content)\n",
    "    print(f'====== {doc.metadata}\\n\\n')"
   ]
  },
  {
   "cell_type": "markdown",
   "id": "98d5f4e0",
   "metadata": {},
   "source": [
    "### Salvando BD FAISS"
   ]
  },
  {
   "cell_type": "code",
   "execution_count": null,
   "id": "fae2108e",
   "metadata": {},
   "outputs": [],
   "source": [
    "vectorstore.save_local('arquivos/faiss_bd')"
   ]
  },
  {
   "cell_type": "markdown",
   "id": "f642f4fb",
   "metadata": {},
   "source": [
    "### Importando BD FAISS"
   ]
  },
  {
   "cell_type": "code",
   "execution_count": null,
   "id": "c4aff401",
   "metadata": {},
   "outputs": [],
   "source": [
    "from langchain_community.vectorstores.faiss import FAISS\n",
    "\n",
    "vectorstore = FAISS.load_local(\n",
    "    'arquivos/faiss_bd',\n",
    "    embeddings=embeddings_model,\n",
    "    allow_dangerous_deserialization=True\n",
    ")"
   ]
  }
 ],
 "metadata": {
  "kernelspec": {
   "display_name": "venv",
   "language": "python",
   "name": "python3"
  },
  "language_info": {
   "codemirror_mode": {
    "name": "ipython",
    "version": 3
   },
   "file_extension": ".py",
   "mimetype": "text/x-python",
   "name": "python",
   "nbconvert_exporter": "python",
   "pygments_lexer": "ipython3",
   "version": "3.13.7"
  }
 },
 "nbformat": 4,
 "nbformat_minor": 5
}
