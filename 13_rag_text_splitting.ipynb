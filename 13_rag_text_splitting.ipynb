{
 "cells": [
  {
   "cell_type": "markdown",
   "id": "8db014af",
   "metadata": {},
   "source": [
    "# Text Splitting"
   ]
  },
  {
   "cell_type": "markdown",
   "id": "c570c135",
   "metadata": {},
   "source": [
    "Nosso objetivo é dividir os nossos documentos de interesse em trechos menores, para fornecer a LLM apenas as partes de texto relevantes para a pergunta do usuário. O problema então é\n",
    "> `Como dividimos o texto garantindo a qualidade da informação?`\n",
    "\n",
    "Vamos dar um exemplo, digamos que temos o texto a seguir:\n",
    "\n",
    "`\"O carro novo da Fiat se chama Toro, tem 120 cavalos de potência e o preço sugerido é 135mil reais.\"`\n",
    "\n",
    "Digamos que fizéssemos um split do texto que ficasse da seguinte forma:\n",
    "\n",
    "- `\"O carro novo da Fiat se\"`\n",
    "- `\" chama Toro, tem 120 \"`\n",
    "- `\"cavalos de potência e \"`\n",
    "- `\"o preço sugerido é \"`\n",
    "- `\"135mil reais.\"`\n",
    "\n",
    "Vocês percebem que os trechos individulemente não possuem valor. Logo, se tentássemos utilizá-los em uma aplicação ela estaria condenada desde início, pois a separação do texto foi mal executada.\n"
   ]
  },
  {
   "cell_type": "markdown",
   "id": "0c8c1573",
   "metadata": {},
   "source": [
    "Utilizar os parâmetros de overlap já auxiliam para minimizar este tipo de problema:\n",
    "\n",
    "![chunck overlap](arquivos/chunck_overlap.png)\n",
    "\n",
    "Dessa forma, mantemos parte dos dados do trecho anterior no trecho seguinte, evitando saltos bruscos de conteúdo entre as partes."
   ]
  },
  {
   "cell_type": "code",
   "execution_count": 49,
   "id": "27731569",
   "metadata": {},
   "outputs": [
    {
     "name": "stdout",
     "output_type": "stream",
     "text": [
      "\n",
      "Já conhece a lista em Python? Quer entender como manipular listas e quais são suas principais utilidades e métodos? Sabe qual a diferença entre listas e tuplas? Este artigo responde responde isso e muito mais! Aproveite ao máximo todo o potencial dessa estrutura de dados essencial para a programação em Python.\n",
      "\n",
      "A lista em Python é uma das estruturas de dados fundamentais da linguagem Python. Além de possuir grande versatilidade, as listas são extremamente relevantes para iniciantes na programação, por incorporar uma variedade de conceitos básicos de Python como mutabilidade, indexação, iteração e slicing. Mas você já conhece as listas de Python a fundo?\n",
      "\n",
      "Neste artigo, vamos nos aprofundar nas listas em Python e aprender a utilizá-las em seus códigos. Ao longo do texto, você aprenderá como criar e manipular uma lista em Python, quais os principais métodos de listas, e como elas se relacionam e com outros tipos de dados de Python, como strings, tuplas e vetores. Vamos lá!\n",
      "\n",
      "\n"
     ]
    }
   ],
   "source": [
    "texto = '''\n",
    "Já conhece a lista em Python? Quer entender como manipular listas e quais são suas principais utilidades e métodos? Sabe qual a diferença entre listas e tuplas? Este artigo responde responde isso e muito mais! Aproveite ao máximo todo o potencial dessa estrutura de dados essencial para a programação em Python.\n",
    "\n",
    "A lista em Python é uma das estruturas de dados fundamentais da linguagem Python. Além de possuir grande versatilidade, as listas são extremamente relevantes para iniciantes na programação, por incorporar uma variedade de conceitos básicos de Python como mutabilidade, indexação, iteração e slicing. Mas você já conhece as listas de Python a fundo?\n",
    "\n",
    "Neste artigo, vamos nos aprofundar nas listas em Python e aprender a utilizá-las em seus códigos. Ao longo do texto, você aprenderá como criar e manipular uma lista em Python, quais os principais métodos de listas, e como elas se relacionam e com outros tipos de dados de Python, como strings, tuplas e vetores. Vamos lá!\n",
    "\n",
    "'''\n",
    "print(texto)"
   ]
  },
  {
   "cell_type": "markdown",
   "id": "57d6c969",
   "metadata": {},
   "source": [
    "## CharacterTextSplitter"
   ]
  },
  {
   "cell_type": "code",
   "execution_count": 50,
   "id": "3ff76486",
   "metadata": {},
   "outputs": [],
   "source": [
    "from langchain_text_splitters import CharacterTextSplitter"
   ]
  },
  {
   "cell_type": "code",
   "execution_count": 51,
   "id": "956f67fe",
   "metadata": {},
   "outputs": [],
   "source": [
    "chunk_size = 50\n",
    "chunk_overlap = 0\n",
    "\n",
    "char_split = CharacterTextSplitter(\n",
    "  chunk_size=chunk_size,\n",
    "  chunk_overlap=chunk_overlap\n",
    ")"
   ]
  },
  {
   "cell_type": "code",
   "execution_count": 52,
   "id": "57cf382d",
   "metadata": {},
   "outputs": [
    {
     "name": "stdout",
     "output_type": "stream",
     "text": [
      "abcdefghijklmnopqrstuvwxyzabcdefghijklmnopqrstuvwxyzabcdefghijklmnopqrstuvwxyzabcdefghijklmnopqrstuvwxyzabcdefghijklmnopqrstuvwxyz\n",
      "130\n"
     ]
    }
   ],
   "source": [
    "import string\n",
    "\n",
    "texto = ''.join(f\"{string.ascii_lowercase}\" for _ in range(5))\n",
    "print(texto)\n",
    "print(len(texto))"
   ]
  },
  {
   "cell_type": "code",
   "execution_count": 53,
   "id": "dc67db34",
   "metadata": {},
   "outputs": [
    {
     "data": {
      "text/plain": [
       "1"
      ]
     },
     "execution_count": 53,
     "metadata": {},
     "output_type": "execute_result"
    }
   ],
   "source": [
    "splits = char_split.split_text(texto)\n",
    "len(splits)"
   ]
  },
  {
   "cell_type": "code",
   "execution_count": 54,
   "id": "55cbb54a",
   "metadata": {},
   "outputs": [
    {
     "data": {
      "text/plain": [
       "['abcdefghijklmnopqrstuvwxyzabcdefghijklmnopqrstuvwxyzabcdefghijklmnopqrstuvwxyzabcdefghijklmnopqrstuvwxyzabcdefghijklmnopqrstuvwxyz']"
      ]
     },
     "execution_count": 54,
     "metadata": {},
     "output_type": "execute_result"
    }
   ],
   "source": [
    "splits"
   ]
  },
  {
   "cell_type": "code",
   "execution_count": 55,
   "id": "061b27ef",
   "metadata": {},
   "outputs": [],
   "source": [
    "chunk_size = 50\n",
    "chunk_overlap = 0\n",
    "\n",
    "char_split = CharacterTextSplitter(\n",
    "  separator=\"\",\n",
    "  chunk_size=chunk_size,\n",
    "  chunk_overlap=chunk_overlap\n",
    ")"
   ]
  },
  {
   "cell_type": "code",
   "execution_count": 56,
   "id": "bd4ad881",
   "metadata": {},
   "outputs": [
    {
     "data": {
      "text/plain": [
       "3"
      ]
     },
     "execution_count": 56,
     "metadata": {},
     "output_type": "execute_result"
    }
   ],
   "source": [
    "splits = char_split.split_text(texto)\n",
    "len(splits)"
   ]
  },
  {
   "cell_type": "code",
   "execution_count": 57,
   "id": "78834c1e",
   "metadata": {},
   "outputs": [
    {
     "data": {
      "text/plain": [
       "['abcdefghijklmnopqrstuvwxyzabcdefghijklmnopqrstuvwx',\n",
       " 'yzabcdefghijklmnopqrstuvwxyzabcdefghijklmnopqrstuv',\n",
       " 'wxyzabcdefghijklmnopqrstuvwxyz']"
      ]
     },
     "execution_count": 57,
     "metadata": {},
     "output_type": "execute_result"
    }
   ],
   "source": [
    "splits"
   ]
  },
  {
   "cell_type": "code",
   "execution_count": 58,
   "id": "616fe837",
   "metadata": {},
   "outputs": [],
   "source": [
    "chunk_size = 50\n",
    "chunk_overlap = 10\n",
    "\n",
    "char_split = CharacterTextSplitter(\n",
    "  separator=\"\",\n",
    "  chunk_size=chunk_size,\n",
    "  chunk_overlap=chunk_overlap\n",
    ")"
   ]
  },
  {
   "cell_type": "code",
   "execution_count": 59,
   "id": "61788745",
   "metadata": {},
   "outputs": [
    {
     "data": {
      "text/plain": [
       "3"
      ]
     },
     "execution_count": 59,
     "metadata": {},
     "output_type": "execute_result"
    }
   ],
   "source": [
    "splits = char_split.split_text(texto)\n",
    "len(splits)"
   ]
  },
  {
   "cell_type": "code",
   "execution_count": 60,
   "id": "51d9afce",
   "metadata": {},
   "outputs": [
    {
     "data": {
      "text/plain": [
       "['abcdefghijklmnopqrstuvwxyzabcdefghijklmnopqrstuvwx',\n",
       " 'opqrstuvwxyzabcdefghijklmnopqrstuvwxyzabcdefghijkl',\n",
       " 'cdefghijklmnopqrstuvwxyzabcdefghijklmnopqrstuvwxyz']"
      ]
     },
     "execution_count": 60,
     "metadata": {},
     "output_type": "execute_result"
    }
   ],
   "source": [
    "splits"
   ]
  },
  {
   "cell_type": "code",
   "execution_count": 61,
   "id": "f664f5ca",
   "metadata": {},
   "outputs": [
    {
     "data": {
      "text/plain": [
       "['Já conhece a lista em Python? Quer entender como',\n",
       " 'como manipular listas e quais são suas principais',\n",
       " 'principais utilidades e métodos? Sabe qual a',\n",
       " 'qual a diferença entre listas e tuplas? Este',\n",
       " 'Este artigo responde responde isso e muito mais!',\n",
       " 'mais! Aproveite ao máximo todo o potencial dessa',\n",
       " 'dessa estrutura de dados essencial para a',\n",
       " 'para a programação em Python.\\n\\nA lista em Python é',\n",
       " 'Python é uma das estruturas de dados fundamentais',\n",
       " 'da linguagem Python. Além de possuir grande',\n",
       " 'grande versatilidade, as listas são extremamente',\n",
       " 'relevantes para iniciantes na programação, por',\n",
       " 'por incorporar uma variedade de conceitos básicos',\n",
       " 'básicos de Python como mutabilidade, indexação,',\n",
       " 'indexação, iteração e slicing. Mas você já conhece',\n",
       " 'já conhece as listas de Python a fundo?\\n\\nNeste',\n",
       " 'artigo, vamos nos aprofundar nas listas em Python',\n",
       " 'em Python e aprender a utilizá-las em seus',\n",
       " 'em seus códigos. Ao longo do texto, você aprenderá',\n",
       " 'aprenderá como criar e manipular uma lista em',\n",
       " 'lista em Python, quais os principais métodos de',\n",
       " 'métodos de listas, e como elas se relacionam e com',\n",
       " 'e com outros tipos de dados de Python, como',\n",
       " 'como strings, tuplas e vetores. Vamos lá!']"
      ]
     },
     "execution_count": 61,
     "metadata": {},
     "output_type": "execute_result"
    }
   ],
   "source": [
    "texto = '''\n",
    "Já conhece a lista em Python? Quer entender como manipular listas e quais são suas principais utilidades e métodos? Sabe qual a diferença entre listas e tuplas? Este artigo responde responde isso e muito mais! Aproveite ao máximo todo o potencial dessa estrutura de dados essencial para a programação em Python.\n",
    "\n",
    "A lista em Python é uma das estruturas de dados fundamentais da linguagem Python. Além de possuir grande versatilidade, as listas são extremamente relevantes para iniciantes na programação, por incorporar uma variedade de conceitos básicos de Python como mutabilidade, indexação, iteração e slicing. Mas você já conhece as listas de Python a fundo?\n",
    "\n",
    "Neste artigo, vamos nos aprofundar nas listas em Python e aprender a utilizá-las em seus códigos. Ao longo do texto, você aprenderá como criar e manipular uma lista em Python, quais os principais métodos de listas, e como elas se relacionam e com outros tipos de dados de Python, como strings, tuplas e vetores. Vamos lá!\n",
    "\n",
    "'''\n",
    "\n",
    "chunk_size = 50\n",
    "chunk_overlap = 10\n",
    "\n",
    "char_split = CharacterTextSplitter(\n",
    "  separator=\" \",\n",
    "  chunk_size=chunk_size,\n",
    "  chunk_overlap=chunk_overlap\n",
    ")\n",
    "\n",
    "splits = char_split.split_text(texto)\n",
    "splits\n"
   ]
  },
  {
   "cell_type": "markdown",
   "id": "b2f16020",
   "metadata": {},
   "source": [
    "## RecursiveCharacterTextSplitter"
   ]
  },
  {
   "cell_type": "code",
   "execution_count": 62,
   "id": "56a053da",
   "metadata": {},
   "outputs": [],
   "source": [
    "from langchain_text_splitters import RecursiveCharacterTextSplitter"
   ]
  },
  {
   "cell_type": "code",
   "execution_count": 63,
   "id": "3812c996",
   "metadata": {},
   "outputs": [],
   "source": [
    "chunk_size = 50\n",
    "chunk_overlap = 10\n",
    "\n",
    "char_split = RecursiveCharacterTextSplitter(\n",
    "  chunk_size=chunk_size,\n",
    "  chunk_overlap=chunk_overlap,\n",
    ")"
   ]
  },
  {
   "cell_type": "code",
   "execution_count": 64,
   "id": "e6fd516e",
   "metadata": {},
   "outputs": [
    {
     "name": "stdout",
     "output_type": "stream",
     "text": [
      "abcdefghijklmnopqrstuvwxyzabcdefghijklmnopqrstuvwxyzabcdefghijklmnopqrstuvwxyzabcdefghijklmnopqrstuvwxyzabcdefghijklmnopqrstuvwxyz\n",
      "130\n"
     ]
    }
   ],
   "source": [
    "import string\n",
    "\n",
    "texto = ''.join(f\"{string.ascii_lowercase}\" for _ in range(5))\n",
    "print(texto)\n",
    "print(len(texto))"
   ]
  },
  {
   "cell_type": "code",
   "execution_count": 65,
   "id": "541b2d1c",
   "metadata": {},
   "outputs": [
    {
     "data": {
      "text/plain": [
       "['abcdefghijklmnopqrstuvwxyzabcdefghijklmnopqrstuvwx',\n",
       " 'opqrstuvwxyzabcdefghijklmnopqrstuvwxyzabcdefghijkl',\n",
       " 'cdefghijklmnopqrstuvwxyzabcdefghijklmnopqrstuvwxyz']"
      ]
     },
     "execution_count": 65,
     "metadata": {},
     "output_type": "execute_result"
    }
   ],
   "source": [
    "char_split.split_text(texto)"
   ]
  },
  {
   "cell_type": "code",
   "execution_count": 66,
   "id": "4df02a9c",
   "metadata": {},
   "outputs": [
    {
     "data": {
      "text/plain": [
       "['abcdefghijklmnopqrstuvwxyzabcdefghijklmnopqrstuvwx',\n",
       " 'opqrstuvwxyzabcdefghijklmnopqrstuvwxyzabcdefghijkl',\n",
       " 'cdefghijklmnopqrstuvwxyzabcdefghijklmnopqrstuvwxyz']"
      ]
     },
     "execution_count": 66,
     "metadata": {},
     "output_type": "execute_result"
    }
   ],
   "source": [
    "chunk_size = 50\n",
    "chunk_overlap = 10\n",
    "\n",
    "char_split = RecursiveCharacterTextSplitter(\n",
    "  chunk_size=chunk_size,\n",
    "  chunk_overlap=chunk_overlap,\n",
    "  separators=[\".\", \" \", \"\"],\n",
    ")\n",
    "\n",
    "char_split.split_text(texto)"
   ]
  },
  {
   "cell_type": "code",
   "execution_count": 67,
   "id": "07e781bc",
   "metadata": {},
   "outputs": [
    {
     "data": {
      "text/plain": [
       "['Já conhece a lista em Python? Quer entender como manipular listas e quais são suas principais utilidades e métodos? Sabe qual a diferença entre listas e tuplas? Este artigo responde responde isso e muito mais! Aproveite ao máximo todo o potencial',\n",
       " 'máximo todo o potencial dessa estrutura de dados essencial para a programação em Python.',\n",
       " 'A lista em Python é uma das estruturas de dados fundamentais da linguagem Python. Além de possuir grande versatilidade, as listas são extremamente relevantes para iniciantes na programação, por incorporar uma variedade de conceitos básicos de Python',\n",
       " 'básicos de Python como mutabilidade, indexação, iteração e slicing. Mas você já conhece as listas de Python a fundo?',\n",
       " 'Neste artigo, vamos nos aprofundar nas listas em Python e aprender a utilizá-las em seus códigos. Ao longo do texto, você aprenderá como criar e manipular uma lista em Python, quais os principais métodos de listas, e como elas se relacionam e com',\n",
       " 'elas se relacionam e com outros tipos de dados de Python, como strings, tuplas e vetores. Vamos lá!']"
      ]
     },
     "execution_count": 67,
     "metadata": {},
     "output_type": "execute_result"
    }
   ],
   "source": [
    "texto = '''\n",
    "Já conhece a lista em Python? Quer entender como manipular listas e quais são suas principais utilidades e métodos? Sabe qual a diferença entre listas e tuplas? Este artigo responde responde isso e muito mais! Aproveite ao máximo todo o potencial dessa estrutura de dados essencial para a programação em Python.\n",
    "\n",
    "A lista em Python é uma das estruturas de dados fundamentais da linguagem Python. Além de possuir grande versatilidade, as listas são extremamente relevantes para iniciantes na programação, por incorporar uma variedade de conceitos básicos de Python como mutabilidade, indexação, iteração e slicing. Mas você já conhece as listas de Python a fundo?\n",
    "\n",
    "Neste artigo, vamos nos aprofundar nas listas em Python e aprender a utilizá-las em seus códigos. Ao longo do texto, você aprenderá como criar e manipular uma lista em Python, quais os principais métodos de listas, e como elas se relacionam e com outros tipos de dados de Python, como strings, tuplas e vetores. Vamos lá!\n",
    "\n",
    "'''\n",
    "\n",
    "chunk_size = 250\n",
    "chunk_overlap = 25 # overlap de 10% do chunk size\n",
    "\n",
    "char_split = RecursiveCharacterTextSplitter(\n",
    "  chunk_size=chunk_size,\n",
    "  chunk_overlap=chunk_overlap,\n",
    "  separators=[\"\\n\\n\", \"\\n\", \" \", \"\"],\n",
    ")\n",
    "\n",
    "char_split.split_text(texto)"
   ]
  },
  {
   "cell_type": "markdown",
   "id": "4b5f125d",
   "metadata": {},
   "source": [
    "## TokenTextSplitter"
   ]
  },
  {
   "cell_type": "code",
   "execution_count": 68,
   "id": "95548d6c",
   "metadata": {},
   "outputs": [],
   "source": [
    "from langchain_text_splitters import TokenTextSplitter"
   ]
  },
  {
   "cell_type": "code",
   "execution_count": 69,
   "id": "83e8ec13",
   "metadata": {},
   "outputs": [],
   "source": [
    "chunk_size = 50\n",
    "chunk_overlap = 5 # overlap de 10% do chunk size\n",
    "\n",
    "token_split = TokenTextSplitter(\n",
    "  chunk_size=chunk_size,\n",
    "  chunk_overlap=chunk_overlap,\n",
    ")"
   ]
  },
  {
   "cell_type": "code",
   "execution_count": 70,
   "id": "1f1f45d9",
   "metadata": {},
   "outputs": [
    {
     "name": "stdout",
     "output_type": "stream",
     "text": [
      "abcdefghijklmnopqrstuvwxyzabcdefghijklmnopqrstuvwxyzabcdefghijklmnopqrstuvwxyzabcdefghijklmnopqrstuvwxyzabcdefghijklmnopqrstuvwxyz\n",
      "130\n"
     ]
    },
    {
     "data": {
      "text/plain": [
       "['abcdefghijklmnopqrstuvwxyzabcdefghijklmnopqrstuvwxyzabcdefghijklmnopqrstuvwxyzabcdefghijklmnopq',\n",
       " 'ijklmnopqrstuvwxyzabcdefghijklmnopqrstuvwxyz']"
      ]
     },
     "execution_count": 70,
     "metadata": {},
     "output_type": "execute_result"
    }
   ],
   "source": [
    "import string\n",
    "\n",
    "texto = ''.join(f\"{string.ascii_lowercase}\" for _ in range(5))\n",
    "print(texto)\n",
    "print(len(texto))\n",
    "\n",
    "token_split.split_text(texto)"
   ]
  },
  {
   "cell_type": "markdown",
   "id": "63599168",
   "metadata": {},
   "source": [
    "## MarkdownHeaderTextSplitter"
   ]
  },
  {
   "cell_type": "code",
   "execution_count": 71,
   "id": "b50aac87",
   "metadata": {},
   "outputs": [],
   "source": [
    "markdown_example = '''# Título do Markdown de exemplo\n",
    "## Capítulo 1\n",
    "Texto capítulo 1 e mais e mais texto.\n",
    "Continuamos no capítulo 1!\n",
    "## Capítulo 2\n",
    "Texto capítulo 2 e mais e mais texto.\n",
    "Continuamos no capítulo 2!\n",
    "## Capítulo 3\n",
    "### Seção 3.1\n",
    "Texto capítulo 3 e mais e mais texto.\n",
    "Continuamos no capítulo 3!\n",
    "'''"
   ]
  },
  {
   "cell_type": "code",
   "execution_count": 72,
   "id": "3bc16f29",
   "metadata": {},
   "outputs": [],
   "source": [
    "from langchain_text_splitters import MarkdownHeaderTextSplitter\n",
    "\n",
    "header_to_split_on = [\n",
    "  (\"#\", \"Header 1\"),\n",
    "  (\"##\", \"Header 2\"),\n",
    "  (\"###\", \"Header 3\"),\n",
    "]\n",
    "\n",
    "md_split = MarkdownHeaderTextSplitter(\n",
    "  headers_to_split_on=header_to_split_on\n",
    ")"
   ]
  },
  {
   "cell_type": "code",
   "execution_count": 73,
   "id": "1b2b6b78",
   "metadata": {},
   "outputs": [],
   "source": [
    "split = md_split.split_text(markdown_example)"
   ]
  },
  {
   "cell_type": "code",
   "execution_count": 74,
   "id": "e7974f44",
   "metadata": {},
   "outputs": [
    {
     "data": {
      "text/plain": [
       "[Document(metadata={'Header 1': 'Título do Markdown de exemplo', 'Header 2': 'Capítulo 1'}, page_content='Texto capítulo 1 e mais e mais texto.\\nContinuamos no capítulo 1!'),\n",
       " Document(metadata={'Header 1': 'Título do Markdown de exemplo', 'Header 2': 'Capítulo 2'}, page_content='Texto capítulo 2 e mais e mais texto.\\nContinuamos no capítulo 2!'),\n",
       " Document(metadata={'Header 1': 'Título do Markdown de exemplo', 'Header 2': 'Capítulo 3', 'Header 3': 'Seção 3.1'}, page_content='Texto capítulo 3 e mais e mais texto.\\nContinuamos no capítulo 3!')]"
      ]
     },
     "execution_count": 74,
     "metadata": {},
     "output_type": "execute_result"
    }
   ],
   "source": [
    "split"
   ]
  },
  {
   "cell_type": "code",
   "execution_count": 75,
   "id": "fdae3a9d",
   "metadata": {},
   "outputs": [
    {
     "name": "stdout",
     "output_type": "stream",
     "text": [
      "Texto capítulo 1 e mais e mais texto.\n",
      "Continuamos no capítulo 1!\n",
      "{'Header 1': 'Título do Markdown de exemplo', 'Header 2': 'Capítulo 1'}\n",
      "=================\n",
      "Texto capítulo 2 e mais e mais texto.\n",
      "Continuamos no capítulo 2!\n",
      "{'Header 1': 'Título do Markdown de exemplo', 'Header 2': 'Capítulo 2'}\n",
      "=================\n",
      "Texto capítulo 3 e mais e mais texto.\n",
      "Continuamos no capítulo 3!\n",
      "{'Header 1': 'Título do Markdown de exemplo', 'Header 2': 'Capítulo 3', 'Header 3': 'Seção 3.1'}\n",
      "=================\n"
     ]
    }
   ],
   "source": [
    "for doc in split:\n",
    "  print(doc.page_content)\n",
    "  print(doc.metadata)\n",
    "  print(\"=================\")"
   ]
  },
  {
   "cell_type": "markdown",
   "id": "710732dd",
   "metadata": {},
   "source": [
    "## Split de documentos"
   ]
  },
  {
   "cell_type": "code",
   "execution_count": 83,
   "id": "62e558e2",
   "metadata": {},
   "outputs": [],
   "source": [
    "from langchain_community.document_loaders.pdf import PyPDFLoader\n",
    "from langchain_text_splitters import RecursiveCharacterTextSplitter\n",
    "\n",
    "chunk_size = 250\n",
    "chunk_overlap = 25\n",
    "\n",
    "char_split = RecursiveCharacterTextSplitter(\n",
    "    chunk_size=chunk_size,\n",
    "    chunk_overlap=chunk_overlap\n",
    ")"
   ]
  },
  {
   "cell_type": "code",
   "execution_count": 84,
   "id": "345b339b",
   "metadata": {},
   "outputs": [
    {
     "data": {
      "text/plain": [
       "89"
      ]
     },
     "execution_count": 84,
     "metadata": {},
     "output_type": "execute_result"
    }
   ],
   "source": [
    "caminho = \"arquivos/Explorando o Universo das IAs com Hugging Face.pdf\"\n",
    "loader = PyPDFLoader(caminho)\n",
    "docs = loader.load()\n",
    "\n",
    "len(docs)"
   ]
  },
  {
   "cell_type": "code",
   "execution_count": null,
   "id": "8ede368b",
   "metadata": {},
   "outputs": [],
   "source": [
    "char_split.split_documents(docs)"
   ]
  },
  {
   "cell_type": "code",
   "execution_count": 86,
   "id": "53b0b7d7",
   "metadata": {},
   "outputs": [
    {
     "data": {
      "text/plain": [
       "24"
      ]
     },
     "execution_count": 86,
     "metadata": {},
     "output_type": "execute_result"
    }
   ],
   "source": [
    "len(splits)"
   ]
  }
 ],
 "metadata": {
  "kernelspec": {
   "display_name": "venv",
   "language": "python",
   "name": "python3"
  },
  "language_info": {
   "codemirror_mode": {
    "name": "ipython",
    "version": 3
   },
   "file_extension": ".py",
   "mimetype": "text/x-python",
   "name": "python",
   "nbconvert_exporter": "python",
   "pygments_lexer": "ipython3",
   "version": "3.13.7"
  }
 },
 "nbformat": 4,
 "nbformat_minor": 5
}
