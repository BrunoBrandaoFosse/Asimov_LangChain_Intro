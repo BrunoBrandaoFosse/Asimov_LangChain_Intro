{
 "cells": [
  {
   "cell_type": "markdown",
   "id": "282f2f12",
   "metadata": {},
   "source": [
    "# Roteamento"
   ]
  },
  {
   "cell_type": "code",
   "execution_count": null,
   "id": "02f6983f",
   "metadata": {},
   "outputs": [],
   "source": [
    "from langchain_openai import ChatOpenAI\n",
    "from langchain_core.prompts import ChatPromptTemplate\n",
    "\n",
    "model = ChatOpenAI(model='gpt-4o-mini')\n",
    "\n",
    "prompt = ChatPromptTemplate.from_template(\"\"\"Você é um professor de matemática de ensino fundamental\n",
    "capaz de dar respostas muito detalhadas e didáticas. Responda a seguinte pergunta de um aluno:\n",
    "Pergunta: {pergunta}\"\"\")\n",
    "chain_matematica = prompt | model\n",
    "\n",
    "prompt = ChatPromptTemplate.from_template(\"\"\"Você é um professor de física de ensino fundamental\n",
    "capaz de dar respostas muito detalhadas e didáticas. Responda a seguinte pergunta de um aluno:\n",
    "Pergunta: {pergunta}\"\"\")\n",
    "chain_fisica = prompt | model\n",
    "\n",
    "prompt = ChatPromptTemplate.from_template(\"\"\"Você é um professor de história de ensino fundamental\n",
    "capaz de dar respostas muito detalhadas e didáticas. Responda a seguinte pergunta de um aluno:\n",
    "Pergunta: {pergunta}\"\"\")\n",
    "chain_historia = prompt | model\n",
    "\n",
    "prompt = ChatPromptTemplate.from_template(\"\"\"{pergunta}\"\"\")\n",
    "chain_generica = prompt | model"
   ]
  },
  {
   "cell_type": "code",
   "execution_count": null,
   "id": "638d9ae1",
   "metadata": {},
   "outputs": [],
   "source": [
    "from pydantic import BaseModel, Field\n",
    "\n",
    "prompt = ChatPromptTemplate.from_template(\"Você deve categorizar a seguinte pergunta: {pergunta}\")\n",
    "\n",
    "class Categorizador(BaseModel):\n",
    "    \"\"\"Categoriza as perguntas de alunos do ensino fundamental\"\"\"\n",
    "    area_conhecimento: str = Field(description=\"A área de conhecimento da pergunta feita pelo aluno. \\\n",
    "    Deve ser 'física', 'matemática' ou 'história'. Caso não se encaixe em nenhuma delas, retorne 'outra'\")\n",
    "\n",
    "model_estruturado = prompt | model.with_structured_output(Categorizador)\n",
    "model_estruturado.invoke({\"pergunta\": \"Quando foi a independência dos Estados Unidos?\"})"
   ]
  },
  {
   "cell_type": "markdown",
   "id": "1d6d3d74",
   "metadata": {},
   "source": [
    "## Criando estrutura de roteamento"
   ]
  },
  {
   "cell_type": "markdown",
   "id": "1152a986",
   "metadata": {},
   "source": [
    "O RunnablePassthrough é um tipo de Runnable que simplesmente passa a entrada recebida como saída, podendo também adicionar chaves adicionais ao resultado. Ele se comporta quase como uma função de identidade, mas é útil em cenários onde você deseja incluir lógica adicional ou manipular a entrada de alguma forma antes de passar adiante."
   ]
  },
  {
   "cell_type": "code",
   "execution_count": null,
   "id": "6a6dafd3",
   "metadata": {},
   "outputs": [],
   "source": [
    "from langchain_core.runnables import RunnablePassthrough\n",
    "\n",
    "chain = RunnablePassthrough().assign(categoria=model_estruturado)\n",
    "chain.invoke({'pergunta': 'Quando foi a independência dos Estados Unidos?'})"
   ]
  },
  {
   "cell_type": "code",
   "execution_count": null,
   "id": "b50af97a",
   "metadata": {},
   "outputs": [],
   "source": [
    "def route(input):\n",
    "    if input['categoria'].area_conhecimento == 'matemática':\n",
    "        return chain_matematica\n",
    "    if input['categoria'].area_conhecimento == 'física':\n",
    "        return chain_fisica\n",
    "    if input['categoria'].area_conhecimento == 'história':\n",
    "        return chain_historia\n",
    "    return chain_generica"
   ]
  },
  {
   "cell_type": "code",
   "execution_count": null,
   "id": "8fea41f1",
   "metadata": {},
   "outputs": [],
   "source": [
    "from langchain_core.runnables import RunnablePassthrough\n",
    "\n",
    "chain = RunnablePassthrough().assign(categoria=model_estruturado) | route\n",
    "chain.invoke({'pergunta': 'Quando foi a independência dos Estados Unidos?'})"
   ]
  }
 ],
 "metadata": {
  "kernelspec": {
   "display_name": "venv",
   "language": "python",
   "name": "python3"
  },
  "language_info": {
   "codemirror_mode": {
    "name": "ipython",
    "version": 3
   },
   "file_extension": ".py",
   "mimetype": "text/x-python",
   "name": "python",
   "nbconvert_exporter": "python",
   "pygments_lexer": "ipython3",
   "version": "3.13.7"
  }
 },
 "nbformat": 4,
 "nbformat_minor": 5
}
