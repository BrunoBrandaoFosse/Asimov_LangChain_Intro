{
 "cells": [
  {
   "cell_type": "markdown",
   "id": "282f2f12",
   "metadata": {},
   "source": [
    "# Roteamento"
   ]
  },
  {
   "cell_type": "code",
   "execution_count": 7,
   "id": "02f6983f",
   "metadata": {},
   "outputs": [],
   "source": [
    "from langchain_openai import ChatOpenAI\n",
    "from langchain_core.prompts import ChatPromptTemplate\n",
    "\n",
    "model = ChatOpenAI(model='gpt-4o-mini')\n",
    "\n",
    "prompt = ChatPromptTemplate.from_template(\"\"\"Você é um professor de matemática de ensino fundamental\n",
    "capaz de dar respostas muito detalhadas e didáticas. Responda a seguinte pergunta de um aluno:\n",
    "Pergunta: {pergunta}\"\"\")\n",
    "chain_matematica = prompt | model\n",
    "\n",
    "prompt = ChatPromptTemplate.from_template(\"\"\"Você é um professor de física de ensino fundamental\n",
    "capaz de dar respostas muito detalhadas e didáticas. Responda a seguinte pergunta de um aluno:\n",
    "Pergunta: {pergunta}\"\"\")\n",
    "chain_fisica = prompt | model\n",
    "\n",
    "prompt = ChatPromptTemplate.from_template(\"\"\"Você é um professor de história de ensino fundamental\n",
    "capaz de dar respostas muito detalhadas e didáticas. Responda a seguinte pergunta de um aluno:\n",
    "Pergunta: {pergunta}\"\"\")\n",
    "chain_historia = prompt | model\n",
    "\n",
    "prompt = ChatPromptTemplate.from_template(\"\"\"{pergunta}\"\"\")\n",
    "chain_generica = prompt | model"
   ]
  },
  {
   "cell_type": "code",
   "execution_count": 3,
   "id": "638d9ae1",
   "metadata": {},
   "outputs": [
    {
     "data": {
      "text/plain": [
       "Categorizador(area_conhecimento='história')"
      ]
     },
     "execution_count": 3,
     "metadata": {},
     "output_type": "execute_result"
    }
   ],
   "source": [
    "from pydantic import BaseModel, Field\n",
    "\n",
    "prompt = ChatPromptTemplate.from_template(\"Você deve categorizar a seguinte pergunta: {pergunta}\")\n",
    "\n",
    "class Categorizador(BaseModel):\n",
    "    \"\"\"Categoriza as perguntas de alunos do ensino fundamental\"\"\"\n",
    "    area_conhecimento: str = Field(description=\"A área de conhecimento da pergunta feita pelo aluno. \\\n",
    "    Deve ser 'física', 'matemática' ou 'história'. Caso não se encaixe em nenhuma delas, retorne 'outra'\")\n",
    "\n",
    "model_estruturado = prompt | model.with_structured_output(Categorizador)\n",
    "model_estruturado.invoke({\"pergunta\": \"Quando foi a independência dos Estados Unidos?\"})"
   ]
  },
  {
   "cell_type": "markdown",
   "id": "1d6d3d74",
   "metadata": {},
   "source": [
    "## Criando estrutura de roteamento"
   ]
  },
  {
   "cell_type": "markdown",
   "id": "1152a986",
   "metadata": {},
   "source": [
    "O RunnablePassthrough é um tipo de Runnable que simplesmente passa a entrada recebida como saída, podendo também adicionar chaves adicionais ao resultado. Ele se comporta quase como uma função de identidade, mas é útil em cenários onde você deseja incluir lógica adicional ou manipular a entrada de alguma forma antes de passar adiante."
   ]
  },
  {
   "cell_type": "code",
   "execution_count": 4,
   "id": "6a6dafd3",
   "metadata": {},
   "outputs": [
    {
     "data": {
      "text/plain": [
       "{'pergunta': 'Quando foi a independência dos Estados Unidos?',\n",
       " 'categoria': Categorizador(area_conhecimento='história')}"
      ]
     },
     "execution_count": 4,
     "metadata": {},
     "output_type": "execute_result"
    }
   ],
   "source": [
    "from langchain_core.runnables import RunnablePassthrough\n",
    "\n",
    "chain = RunnablePassthrough().assign(categoria=model_estruturado)\n",
    "chain.invoke({'pergunta': 'Quando foi a independência dos Estados Unidos?'})"
   ]
  },
  {
   "cell_type": "code",
   "execution_count": 5,
   "id": "b50af97a",
   "metadata": {},
   "outputs": [],
   "source": [
    "def route(input):\n",
    "    if input['categoria'].area_conhecimento == 'matemática':\n",
    "        return chain_matematica\n",
    "    if input['categoria'].area_conhecimento == 'física':\n",
    "        return chain_fisica\n",
    "    if input['categoria'].area_conhecimento == 'história':\n",
    "        return chain_historia\n",
    "    return chain_generica"
   ]
  },
  {
   "cell_type": "code",
   "execution_count": 6,
   "id": "8fea41f1",
   "metadata": {},
   "outputs": [
    {
     "data": {
      "text/plain": [
       "AIMessage(content='A independência dos Estados Unidos foi declarada no dia 4 de julho de 1776. Vamos entender melhor o contexto e a importância desse evento na história.\\n\\n**Contexto Histórico:**\\n\\nAntes de se tornarem independentes, os Estados Unidos eram 13 colônias britânicas que se localizavam na costa atlântica da América do Norte. Essas colônias eram controladas pela Grã-Bretanha, e os colonos enfrentavam uma série de impostos e regulamentações que consideravam injustos. Por exemplo, o britânico governo introduziu o \"Stamp Act\" em 1765 e o \"Tea Act\" em 1773, que levantaram uma série de protestos. Os colonos sentiam que não podiam ser taxados sem representação, o que levou ao famoso slogan \"Sem tributação sem representação\".\\n\\n**A Revolução Americana:**\\n\\nAs tensões entre os colonos e a Grã-Bretanha aumentaram ao longo dos anos e culminaram em uma série de eventos, incluindo o Boston Tea Party em que colonos, disfarçados de indígenas americanos, jogaram chá no porto de Boston como forma de protesto. Em 1775, com o início das batalhas de Lexington e Concord, a Revolução Americana realmente começou.\\n\\n**A Declaração de Independência:**\\n\\nEm 1776, após anos de crescimento do sentimento anticolonial, representantes das 13 colônias se reuniram no Segundo Congresso Continental em Filadélfia. Em 11 de junho de 1776, Thomas Jefferson, um dos líderes da Revolução, foi encarregado de redigir um documento formal que declarasse a independência da Grã-Bretanha. Esse documento, conhecido como a Declaração de Independência, foi adotado oficialmente no dia 4 de julho de 1776.\\n\\nNo texto, além de declarar a independência, os autores explicaram os direitos inalienáveis dos seres humanos, como a vida, a liberdade e a busca pela felicidade. A Declaração de Independência se tornou um símbolo dos ideais democráticos e de liberdade para muitos ao redor do mundo.\\n\\n**Resultado e Consequências:**\\n\\nEmbora a Declaração tenha sido adotada em 1776, a luta pela independência se estendeu até 1783, quando o Tratado de Paris foi assinado, reconhecendo oficialmente a independência dos Estados Unidos. O 4 de julho é celebrado até hoje como o Dia da Independência, marcado por festas, fogos de artifício e desfiles.\\n\\nA independência dos Estados Unidos não apenas transformou a própria nação, mas também influenciou muitas outras revoluções pelo mundo, inspirando outros povos a lutarem por suas próprias liberdades e direitos. \\n\\nPortanto, a data de 4 de julho de 1776 não é apenas a marca da independência dos Estados Unidos, mas também um importante marco na história da luta por liberdades e direitos humanos.', additional_kwargs={'refusal': None}, response_metadata={'token_usage': {'completion_tokens': 610, 'prompt_tokens': 51, 'total_tokens': 661, 'completion_tokens_details': {'accepted_prediction_tokens': 0, 'audio_tokens': 0, 'reasoning_tokens': 0, 'rejected_prediction_tokens': 0}, 'prompt_tokens_details': {'audio_tokens': 0, 'cached_tokens': 0}}, 'model_provider': 'openai', 'model_name': 'gpt-4o-mini-2024-07-18', 'system_fingerprint': 'fp_560af6e559', 'id': 'chatcmpl-CTMRYkKsNeiLmzc8ojXlDt6Jn2RUN', 'service_tier': 'default', 'finish_reason': 'stop', 'logprobs': None}, id='lc_run--0ba9e91e-41b2-4b26-81e3-1371c52d2a44-0', usage_metadata={'input_tokens': 51, 'output_tokens': 610, 'total_tokens': 661, 'input_token_details': {'audio': 0, 'cache_read': 0}, 'output_token_details': {'audio': 0, 'reasoning': 0}})"
      ]
     },
     "execution_count": 6,
     "metadata": {},
     "output_type": "execute_result"
    }
   ],
   "source": [
    "from langchain_core.runnables import RunnablePassthrough\n",
    "\n",
    "chain = RunnablePassthrough().assign(categoria=model_estruturado) | route\n",
    "chain.invoke({'pergunta': 'Quando foi a independência dos Estados Unidos?'})"
   ]
  }
 ],
 "metadata": {
  "kernelspec": {
   "display_name": "venv",
   "language": "python",
   "name": "python3"
  },
  "language_info": {
   "codemirror_mode": {
    "name": "ipython",
    "version": 3
   },
   "file_extension": ".py",
   "mimetype": "text/x-python",
   "name": "python",
   "nbconvert_exporter": "python",
   "pygments_lexer": "ipython3",
   "version": "3.13.7"
  }
 },
 "nbformat": 4,
 "nbformat_minor": 5
}
