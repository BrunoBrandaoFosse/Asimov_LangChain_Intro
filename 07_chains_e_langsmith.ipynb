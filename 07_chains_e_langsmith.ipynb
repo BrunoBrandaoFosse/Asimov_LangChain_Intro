{
 "cells": [
  {
   "cell_type": "markdown",
   "id": "e61e7ef2",
   "metadata": {},
   "source": [
    "# Criando Chains mais complexas\n",
    "\n",
    "Agora que sabemos criar chains siples com LCEL, podemos começar a nos aventurar em chains mais complexas e compreender o verdadeiro poder do LangChain.\n",
    "\n",
    "Podemos utilizar a capacidade de compor chains, para criar chains de chains. Isso mesmo, podemos acoplar pequenos blocos de chains, domando-os para criar aplicações bem mais complexas e, consequentemente, mais poderosas. \n",
    "\n",
    "A capacidade de um modelo de linguagem aumenta drasticamente conforme mais espeífica for nossa chamada, e é isso que buscamos fazer ao quebrar uma aplicação em múltiplas cadeias."
   ]
  },
  {
   "cell_type": "markdown",
   "id": "d47e356e",
   "metadata": {},
   "source": [
    "## Somando chains"
   ]
  },
  {
   "cell_type": "code",
   "execution_count": null,
   "id": "3da2891c",
   "metadata": {},
   "outputs": [],
   "source": [
    "from langchain_openai import ChatOpenAI\n",
    "from langchain_core.output_parsers import StrOutputParser\n",
    "from langchain_core.prompts import ChatPromptTemplate\n",
    "\n",
    "prompt = ChatPromptTemplate.from_template('Fale uma curiosidade sobre o assunto: {assunto}')\n",
    "chain_curiosidade = prompt | ChatOpenAI() | StrOutputParser()"
   ]
  },
  {
   "cell_type": "code",
   "execution_count": null,
   "id": "939492d6",
   "metadata": {},
   "outputs": [],
   "source": [
    "prompt = ChatPromptTemplate.from_template('Crie uma história sobre o seguinte fato curioso: {assunto}')\n",
    "chain_historia = prompt | ChatOpenAI() | StrOutputParser()"
   ]
  },
  {
   "cell_type": "code",
   "execution_count": null,
   "id": "141e5572",
   "metadata": {},
   "outputs": [],
   "source": [
    "chain = chain_curiosidade | chain_historia\n",
    "chain.invoke({'assunto': 'peixes'})"
   ]
  },
  {
   "cell_type": "markdown",
   "id": "92a8f122",
   "metadata": {},
   "source": [
    "## Como entender o que está acontecendo?\n",
    "\n",
    "Pra isso, podemos utilizar o [langSmith](https://smith.langchain.com/)"
   ]
  }
 ],
 "metadata": {
  "kernelspec": {
   "display_name": "venv",
   "language": "python",
   "name": "python3"
  },
  "language_info": {
   "codemirror_mode": {
    "name": "ipython",
    "version": 3
   },
   "file_extension": ".py",
   "mimetype": "text/x-python",
   "name": "python",
   "nbconvert_exporter": "python",
   "pygments_lexer": "ipython3",
   "version": "3.13.7"
  }
 },
 "nbformat": 4,
 "nbformat_minor": 5
}
